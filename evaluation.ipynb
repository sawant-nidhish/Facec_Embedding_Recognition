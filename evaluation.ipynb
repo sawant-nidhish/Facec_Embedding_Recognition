{
 "cells": [
  {
   "cell_type": "code",
   "execution_count": null,
   "metadata": {},
   "outputs": [],
   "source": [
    "# !pip install keras_cv_attention_models"
   ]
  },
  {
   "cell_type": "code",
   "execution_count": 5,
   "metadata": {},
   "outputs": [],
   "source": [
    "\n",
    "from tensorflow import keras\n",
    "import evals\n",
    "import tensorflow as tf\n",
    "import IJB_evals\n",
    "import matplotlib.pyplot as plt\n",
    "import keras_cv_attention_models\n",
    "import GhostFaceNets, GhostFaceNets_with_Bias"
   ]
  },
  {
   "cell_type": "code",
   "execution_count": 6,
   "metadata": {},
   "outputs": [
    {
     "name": "stdout",
     "output_type": "stream",
     "text": [
      "[PhysicalDevice(name='/physical_device:GPU:0', device_type='GPU')]\n"
     ]
    }
   ],
   "source": [
    "gpus = tf.config.experimental.list_physical_devices(\"GPU\")\n",
    "for gpu in gpus:\n",
    "    tf.config.experimental.set_memory_growth(gpu, True)\n",
    "print(tf.config.list_physical_devices('GPU'))"
   ]
  },
  {
   "attachments": {},
   "cell_type": "markdown",
   "metadata": {},
   "source": [
    "2 ways to load the model"
   ]
  },
  {
   "attachments": {},
   "cell_type": "markdown",
   "metadata": {},
   "source": [
    "Stride 2"
   ]
  },
  {
   "cell_type": "code",
   "execution_count": 16,
   "metadata": {},
   "outputs": [],
   "source": [
    "#Either\n",
    "basic_model = keras.models.load_model('checkpoints/GN_W0.5_S2_ArcFace_epoch16.h5', compile=False)"
   ]
  },
  {
   "cell_type": "code",
   "execution_count": null,
   "metadata": {},
   "outputs": [],
   "source": [
    "#If the above did not work, then you need to build the model then load the weights. e.g.,\n",
    "basic_model = GhostFaceNets_with_Bias.buildin_models(\"ghostnetv1\", dropout=0, emb_shape=512, output_layer='GDC', bn_momentum=0.9, bn_epsilon=1e-5)\n",
    "basic_model = GhostFaceNets_with_Bias.add_l2_regularizer_2_model(basic_model, weight_decay=5e-4, apply_to_batch_normal=False)\n",
    "basic_model = GhostFaceNets_with_Bias.replace_ReLU_with_PReLU(basic_model, target_activation='PReLU')\n",
    "\n",
    "basic_model.load_weights('checkpoints/ghostnetv1_w1.3_s2.h5')"
   ]
  },
  {
   "attachments": {},
   "cell_type": "markdown",
   "metadata": {},
   "source": [
    "Stride 1"
   ]
  },
  {
   "cell_type": "code",
   "execution_count": 7,
   "metadata": {},
   "outputs": [
    {
     "name": "stdout",
     "output_type": "stream",
     "text": [
      "INFO:tensorflow:Mixed precision compatibility check (mixed_float16): OK\n",
      "Your GPU will likely run quickly with dtype policy mixed_float16 as it has compute capability of at least 7.0. Your GPU: NVIDIA GeForce GTX 1650, compute capability 7.5\n"
     ]
    }
   ],
   "source": [
    "#Either\n",
    "basic_model = keras.models.load_model('checkpoints/GhostFaceNet_W1.3_S1_ArcFace.h5', compile=False)"
   ]
  },
  {
   "cell_type": "code",
   "execution_count": null,
   "metadata": {},
   "outputs": [],
   "source": [
    "#If the above did not work, then you need to build the model then load the weights. e.g.,\n",
    "basic_model = GhostFaceNets_with_Bias.buildin_models(\"ghostnetv1\", dropout=0, emb_shape=512, output_layer='GDC', bn_momentum=0.9, bn_epsilon=1e-5, scale=True, use_bias=True, strides=1)\n",
    "basic_model = GhostFaceNets_with_Bias.add_l2_regularizer_2_model(basic_model, weight_decay=5e-4, apply_to_batch_normal=False)\n",
    "basic_model = GhostFaceNets_with_Bias.replace_ReLU_with_PReLU(basic_model, target_activation='PReLU')\n",
    "\n",
    "basic_model.load_weights('checkpoints/ghostnetv1_w1.3_s1.h5')"
   ]
  },
  {
   "cell_type": "code",
   "execution_count": 8,
   "metadata": {},
   "outputs": [
    {
     "name": "stdout",
     "output_type": "stream",
     "text": [
      "\n"
     ]
    },
    {
     "name": "stderr",
     "output_type": "stream",
     "text": [
      "Evaluating lfw: 100%|██████████| 47/47 [01:57<00:00,  2.49s/it]\n"
     ]
    },
    {
     "ename": "ValueError",
     "evalue": "Expect x to not have duplicates",
     "output_type": "error",
     "traceback": [
      "\u001b[1;31m---------------------------------------------------------------------------\u001b[0m",
      "\u001b[1;31mValueError\u001b[0m                                Traceback (most recent call last)",
      "Cell \u001b[1;32mIn[8], line 2\u001b[0m\n\u001b[0;32m      1\u001b[0m ee \u001b[39m=\u001b[39m evals\u001b[39m.\u001b[39meval_callback(basic_model, \u001b[39m'\u001b[39m\u001b[39mdatasets/faces_emore/lfw.bin\u001b[39m\u001b[39m'\u001b[39m, batch_size\u001b[39m=\u001b[39m\u001b[39m256\u001b[39m, flip\u001b[39m=\u001b[39m\u001b[39mTrue\u001b[39;00m, PCA_acc\u001b[39m=\u001b[39m\u001b[39mTrue\u001b[39;00m)\n\u001b[1;32m----> 2\u001b[0m ee\u001b[39m.\u001b[39;49mon_epoch_end(\u001b[39m0\u001b[39;49m)\n",
      "File \u001b[1;32me:\\Projects\\FaceRecognition-IITG\\GhostFaceNets\\evals.py:37\u001b[0m, in \u001b[0;36meval_callback.__init__.<locals>.<lambda>\u001b[1;34m(epoch, logs)\u001b[0m\n\u001b[0;32m     34\u001b[0m \u001b[39mif\u001b[39;00m eval_freq \u001b[39m>\u001b[39m \u001b[39m1\u001b[39m:\n\u001b[0;32m     35\u001b[0m     \u001b[39m# If eval_freq > 1, do evaluation on batch, and also on epoch.\u001b[39;00m\n\u001b[0;32m     36\u001b[0m     \u001b[39mself\u001b[39m\u001b[39m.\u001b[39mon_batch_end \u001b[39m=\u001b[39m \u001b[39mlambda\u001b[39;00m batch\u001b[39m=\u001b[39m\u001b[39m0\u001b[39m, logs\u001b[39m=\u001b[39m\u001b[39mNone\u001b[39;00m: \u001b[39mself\u001b[39m\u001b[39m.\u001b[39m__eval_func__(batch, logs, eval_freq\u001b[39m=\u001b[39meval_freq)\n\u001b[1;32m---> 37\u001b[0m \u001b[39mself\u001b[39m\u001b[39m.\u001b[39mon_epoch_end \u001b[39m=\u001b[39m \u001b[39mlambda\u001b[39;00m epoch\u001b[39m=\u001b[39m\u001b[39m0\u001b[39m, logs\u001b[39m=\u001b[39m\u001b[39mNone\u001b[39;00m: \u001b[39mself\u001b[39;49m\u001b[39m.\u001b[39;49m__eval_func__(epoch, logs, eval_freq\u001b[39m=\u001b[39;49m\u001b[39m1\u001b[39;49m)\n\u001b[0;32m     39\u001b[0m \u001b[39mself\u001b[39m\u001b[39m.\u001b[39mis_distribute \u001b[39m=\u001b[39m \u001b[39mFalse\u001b[39;00m\n\u001b[0;32m     40\u001b[0m \u001b[39mif\u001b[39;00m tf\u001b[39m.\u001b[39mdistribute\u001b[39m.\u001b[39mhas_strategy():\n",
      "File \u001b[1;32me:\\Projects\\FaceRecognition-IITG\\GhostFaceNets\\evals.py:114\u001b[0m, in \u001b[0;36meval_callback.__eval_func__\u001b[1;34m(self, cur_step, logs, eval_freq)\u001b[0m\n\u001b[0;32m    111\u001b[0m \u001b[39mself\u001b[39m\u001b[39m.\u001b[39mcur_acc \u001b[39m=\u001b[39m acc_max\n\u001b[0;32m    113\u001b[0m \u001b[39mif\u001b[39;00m \u001b[39mself\u001b[39m\u001b[39m.\u001b[39mPCA_acc:\n\u001b[1;32m--> 114\u001b[0m     _, _, accuracy, val, val_std, far \u001b[39m=\u001b[39m evaluate(embs, \u001b[39mself\u001b[39;49m\u001b[39m.\u001b[39;49mtest_issame, nrof_folds\u001b[39m=\u001b[39;49m\u001b[39m10\u001b[39;49m)\n\u001b[0;32m    115\u001b[0m     acc2, std2 \u001b[39m=\u001b[39m np\u001b[39m.\u001b[39mmean(accuracy), np\u001b[39m.\u001b[39mstd(accuracy)\n\u001b[0;32m    116\u001b[0m     tf\u001b[39m.\u001b[39mprint(\n\u001b[0;32m    117\u001b[0m         \u001b[39m\"\u001b[39m\u001b[39m\\n\u001b[39;00m\u001b[39m>>>> \u001b[39m\u001b[39m%s\u001b[39;00m\u001b[39m evaluation max accuracy: \u001b[39m\u001b[39m%f\u001b[39;00m\u001b[39m, thresh: \u001b[39m\u001b[39m%f\u001b[39;00m\u001b[39m, previous max accuracy: \u001b[39m\u001b[39m%f\u001b[39;00m\u001b[39m, PCA accuray = \u001b[39m\u001b[39m%f\u001b[39;00m\u001b[39m ± \u001b[39m\u001b[39m%f\u001b[39;00m\u001b[39m\"\u001b[39m\n\u001b[0;32m    118\u001b[0m         \u001b[39m%\u001b[39m (\u001b[39mself\u001b[39m\u001b[39m.\u001b[39mtest_names, acc_max, \u001b[39mself\u001b[39m\u001b[39m.\u001b[39macc_thresh, \u001b[39mself\u001b[39m\u001b[39m.\u001b[39mmax_accuracy, acc2, std2)\n\u001b[0;32m    119\u001b[0m     )\n",
      "File \u001b[1;32me:\\Projects\\FaceRecognition-IITG\\GhostFaceNets\\evals.py:277\u001b[0m, in \u001b[0;36mevaluate\u001b[1;34m(embeddings, actual_issame, nrof_folds, pca)\u001b[0m\n\u001b[0;32m    275\u001b[0m tpr, fpr, accuracy \u001b[39m=\u001b[39m calculate_roc(thresholds, embeddings1, embeddings2, np\u001b[39m.\u001b[39masarray(actual_issame), nrof_folds\u001b[39m=\u001b[39mnrof_folds, pca\u001b[39m=\u001b[39mpca)\n\u001b[0;32m    276\u001b[0m thresholds \u001b[39m=\u001b[39m np\u001b[39m.\u001b[39marange(\u001b[39m0\u001b[39m, \u001b[39m4\u001b[39m, \u001b[39m0.001\u001b[39m)\n\u001b[1;32m--> 277\u001b[0m val, val_std, far \u001b[39m=\u001b[39m calculate_val(thresholds, embeddings1, embeddings2, np\u001b[39m.\u001b[39;49masarray(actual_issame), \u001b[39m1e-3\u001b[39;49m, nrof_folds\u001b[39m=\u001b[39;49mnrof_folds)\n\u001b[0;32m    278\u001b[0m \u001b[39mreturn\u001b[39;00m tpr, fpr, accuracy, val, val_std, far\n",
      "File \u001b[1;32me:\\Projects\\FaceRecognition-IITG\\GhostFaceNets\\evals.py:246\u001b[0m, in \u001b[0;36mcalculate_val\u001b[1;34m(thresholds, embeddings1, embeddings2, actual_issame, far_target, nrof_folds)\u001b[0m\n\u001b[0;32m    244\u001b[0m     _, far_train[threshold_idx] \u001b[39m=\u001b[39m calculate_val_far(threshold, dist[train_set], actual_issame[train_set])\n\u001b[0;32m    245\u001b[0m \u001b[39mif\u001b[39;00m np\u001b[39m.\u001b[39mmax(far_train) \u001b[39m>\u001b[39m\u001b[39m=\u001b[39m far_target:\n\u001b[1;32m--> 246\u001b[0m     f \u001b[39m=\u001b[39m interpolate\u001b[39m.\u001b[39;49minterp1d(far_train, thresholds, kind\u001b[39m=\u001b[39;49m\u001b[39m\"\u001b[39;49m\u001b[39mslinear\u001b[39;49m\u001b[39m\"\u001b[39;49m)\n\u001b[0;32m    247\u001b[0m     threshold \u001b[39m=\u001b[39m f(far_target)\n\u001b[0;32m    248\u001b[0m \u001b[39melse\u001b[39;00m:\n",
      "File \u001b[1;32me:\\Projects\\FaceRecognition-IITG\\GhostFaceNets\\tf\\lib\\site-packages\\scipy\\interpolate\\_interpolate.py:619\u001b[0m, in \u001b[0;36minterp1d.__init__\u001b[1;34m(***failed resolving arguments***)\u001b[0m\n\u001b[0;32m    616\u001b[0m         yy \u001b[39m=\u001b[39m np\u001b[39m.\u001b[39mones_like(\u001b[39mself\u001b[39m\u001b[39m.\u001b[39m_y)\n\u001b[0;32m    617\u001b[0m         rewrite_nan \u001b[39m=\u001b[39m \u001b[39mTrue\u001b[39;00m\n\u001b[1;32m--> 619\u001b[0m \u001b[39mself\u001b[39m\u001b[39m.\u001b[39m_spline \u001b[39m=\u001b[39m make_interp_spline(xx, yy, k\u001b[39m=\u001b[39;49morder,\n\u001b[0;32m    620\u001b[0m                                   check_finite\u001b[39m=\u001b[39;49m\u001b[39mFalse\u001b[39;49;00m)\n\u001b[0;32m    621\u001b[0m \u001b[39mif\u001b[39;00m rewrite_nan:\n\u001b[0;32m    622\u001b[0m     \u001b[39mself\u001b[39m\u001b[39m.\u001b[39m_call \u001b[39m=\u001b[39m \u001b[39mself\u001b[39m\u001b[39m.\u001b[39m\u001b[39m__class__\u001b[39m\u001b[39m.\u001b[39m_call_nan_spline\n",
      "File \u001b[1;32me:\\Projects\\FaceRecognition-IITG\\GhostFaceNets\\tf\\lib\\site-packages\\scipy\\interpolate\\_bsplines.py:1297\u001b[0m, in \u001b[0;36mmake_interp_spline\u001b[1;34m(x, y, k, t, bc_type, axis, check_finite)\u001b[0m\n\u001b[0;32m   1294\u001b[0m     \u001b[39mraise\u001b[39;00m \u001b[39mValueError\u001b[39;00m(\u001b[39m'\u001b[39m\u001b[39mShapes of x \u001b[39m\u001b[39m{}\u001b[39;00m\u001b[39m and y \u001b[39m\u001b[39m{}\u001b[39;00m\u001b[39m are incompatible\u001b[39m\u001b[39m'\u001b[39m\n\u001b[0;32m   1295\u001b[0m                      \u001b[39m.\u001b[39mformat(x\u001b[39m.\u001b[39mshape, y\u001b[39m.\u001b[39mshape))\n\u001b[0;32m   1296\u001b[0m \u001b[39mif\u001b[39;00m np\u001b[39m.\u001b[39many(x[\u001b[39m1\u001b[39m:] \u001b[39m==\u001b[39m x[:\u001b[39m-\u001b[39m\u001b[39m1\u001b[39m]):\n\u001b[1;32m-> 1297\u001b[0m     \u001b[39mraise\u001b[39;00m \u001b[39mValueError\u001b[39;00m(\u001b[39m\"\u001b[39m\u001b[39mExpect x to not have duplicates\u001b[39m\u001b[39m\"\u001b[39m)\n\u001b[0;32m   1298\u001b[0m \u001b[39mif\u001b[39;00m x\u001b[39m.\u001b[39mndim \u001b[39m!=\u001b[39m \u001b[39m1\u001b[39m \u001b[39mor\u001b[39;00m np\u001b[39m.\u001b[39many(x[\u001b[39m1\u001b[39m:] \u001b[39m<\u001b[39m x[:\u001b[39m-\u001b[39m\u001b[39m1\u001b[39m]):\n\u001b[0;32m   1299\u001b[0m     \u001b[39mraise\u001b[39;00m \u001b[39mValueError\u001b[39;00m(\u001b[39m\"\u001b[39m\u001b[39mExpect x to be a 1D strictly increasing sequence.\u001b[39m\u001b[39m\"\u001b[39m)\n",
      "\u001b[1;31mValueError\u001b[0m: Expect x to not have duplicates"
     ]
    }
   ],
   "source": [
    "ee = evals.eval_callback(basic_model, 'datasets/faces_emore/lfw.bin', batch_size=256, flip=True, PCA_acc=True)\n",
    "ee.on_epoch_end(0)"
   ]
  },
  {
   "cell_type": "code",
   "execution_count": 17,
   "metadata": {},
   "outputs": [
    {
     "name": "stdout",
     "output_type": "stream",
     "text": [
      "\n"
     ]
    },
    {
     "name": "stderr",
     "output_type": "stream",
     "text": [
      "Evaluating lfw: 100%|██████████| 47/47 [00:19<00:00,  2.37it/s]"
     ]
    },
    {
     "name": "stdout",
     "output_type": "stream",
     "text": [
      "\n",
      ">>>> lfw evaluation max accuracy: 0.987500, thresh: 0.226920, previous max accuracy: 0.000000\n",
      ">>>> Improved = 0.987500\n"
     ]
    },
    {
     "name": "stderr",
     "output_type": "stream",
     "text": [
      "\n"
     ]
    }
   ],
   "source": [
    "ee = evals.eval_callback(basic_model, 'datasets/faces_emore/lfw.bin', batch_size=256, flip=True, PCA_acc=False)\n",
    "ee.on_epoch_end(0)"
   ]
  },
  {
   "cell_type": "code",
   "execution_count": null,
   "metadata": {},
   "outputs": [],
   "source": [
    "ee = evals.eval_callback(basic_model, 'datasets/faces_emore/vgg2_fp.bin', batch_size=256, flip=True, PCA_acc=False)\n",
    "ee.on_epoch_end(0)"
   ]
  },
  {
   "cell_type": "code",
   "execution_count": 11,
   "metadata": {},
   "outputs": [
    {
     "name": "stdout",
     "output_type": "stream",
     "text": [
      "\n"
     ]
    },
    {
     "name": "stderr",
     "output_type": "stream",
     "text": [
      "Evaluating cfp_fp: 100%|██████████| 55/55 [01:41<00:00,  1.85s/it]"
     ]
    },
    {
     "name": "stdout",
     "output_type": "stream",
     "text": [
      "\n",
      ">>>> cfp_fp evaluation max accuracy: 0.978286, thresh: 0.188336, previous max accuracy: 0.000000\n",
      ">>>> Improved = 0.978286\n"
     ]
    },
    {
     "name": "stderr",
     "output_type": "stream",
     "text": [
      "\n"
     ]
    }
   ],
   "source": [
    "ee = evals.eval_callback(basic_model, 'datasets/faces_emore/cfp_fp.bin', batch_size=256, flip=True, PCA_acc=False)\n",
    "ee.on_epoch_end(0)"
   ]
  },
  {
   "cell_type": "code",
   "execution_count": null,
   "metadata": {},
   "outputs": [],
   "source": [
    "ee = evals.eval_callback(basic_model, 'datasets/faces_emore/cfp_fp.bin', batch_size=256, flip=True, PCA_acc=False)\n",
    "ee.on_epoch_end(0)"
   ]
  },
  {
   "cell_type": "code",
   "execution_count": null,
   "metadata": {},
   "outputs": [],
   "source": [
    "ee = evals.eval_callback(basic_model, 'datasets/faces_emore/calfw.bin', batch_size=256, flip=True, PCA_acc=False)\n",
    "ee.on_epoch_end(0)"
   ]
  },
  {
   "cell_type": "code",
   "execution_count": null,
   "metadata": {},
   "outputs": [],
   "source": [
    "ee = evals.eval_callback(basic_model, 'datasets/faces_emore/cplfw.bin', batch_size=256, flip=True, PCA_acc=False)\n",
    "ee.on_epoch_end(0)"
   ]
  },
  {
   "cell_type": "code",
   "execution_count": 12,
   "metadata": {},
   "outputs": [
    {
     "name": "stdout",
     "output_type": "stream",
     "text": [
      "\n"
     ]
    },
    {
     "name": "stderr",
     "output_type": "stream",
     "text": [
      "Evaluating agedb_30: 100%|██████████| 47/47 [01:26<00:00,  1.84s/it]"
     ]
    },
    {
     "name": "stdout",
     "output_type": "stream",
     "text": [
      "\n",
      ">>>> agedb_30 evaluation max accuracy: 0.980000, thresh: 0.208199, previous max accuracy: 0.000000\n",
      ">>>> Improved = 0.980000\n"
     ]
    },
    {
     "name": "stderr",
     "output_type": "stream",
     "text": [
      "\n"
     ]
    }
   ],
   "source": [
    "ee = evals.eval_callback(basic_model, 'datasets/faces_emore/agedb_30.bin', batch_size=256, flip=True, PCA_acc=False)\n",
    "ee.on_epoch_end(0)"
   ]
  },
  {
   "cell_type": "code",
   "execution_count": null,
   "metadata": {},
   "outputs": [],
   "source": [
    "tt = IJB_evals.IJB_test(lambda imgs: basic_model((tf.cast(imgs, \"float32\") - 127.5) * 0.0078125).numpy(), data_path='path_to_IJB_Dataset/ijb-testsuite/ijb', subset='IJBB', batch_size=16)"
   ]
  },
  {
   "cell_type": "code",
   "execution_count": null,
   "metadata": {},
   "outputs": [],
   "source": [
    "score = tt.run_model_test_single()"
   ]
  },
  {
   "cell_type": "code",
   "execution_count": null,
   "metadata": {},
   "outputs": [],
   "source": [
    "IJB_evals.plot_roc_and_calculate_tpr([score], names=[basic_model.name + \"_IJBB\"], label=tt.label)"
   ]
  },
  {
   "cell_type": "code",
   "execution_count": null,
   "metadata": {},
   "outputs": [],
   "source": [
    "tt = IJB_evals.IJB_test(lambda imgs: basic_model((tf.cast(imgs, \"float32\") - 127.5) * 0.0078125).numpy(), data_path='C:/Users/mohda/Downloads/ijb-testsuite/ijb', subset='IJBC', batch_size=16)"
   ]
  },
  {
   "cell_type": "code",
   "execution_count": null,
   "metadata": {},
   "outputs": [],
   "source": [
    "score = tt.run_model_test_single()"
   ]
  },
  {
   "cell_type": "code",
   "execution_count": null,
   "metadata": {},
   "outputs": [],
   "source": [
    "IJB_evals.plot_roc_and_calculate_tpr([score], names=[basic_model.name + \"_IJBC\"], label=tt.label)"
   ]
  },
  {
   "attachments": {},
   "cell_type": "markdown",
   "metadata": {},
   "source": [
    "Plot face quality distribution using norm value of feature"
   ]
  },
  {
   "cell_type": "code",
   "execution_count": 13,
   "metadata": {},
   "outputs": [
    {
     "data": {
      "image/png": "[encoded data removed]",
      "text/plain": [
       "<Figure size 640x480 with 1 Axes>"
      ]
     },
     "metadata": {},
     "output_type": "display_data"
    }
   ],
   "source": [
    "cc = tf.norm(ee.embs, axis=1).numpy()\n",
    "_ = plt.hist(cc, bins=512, alpha=0.5, label='agedb_30 quality')\n",
    "# cc = tf.norm(tt.embs, axis=1).numpy()\n",
    "# _ = plt.hist(cc, bins=512, alpha=0.5, label='IJBC quality')\n",
    "plt.legend()\n",
    "plt.tight_layout()"
   ]
  },
  {
   "cell_type": "code",
   "execution_count": null,
   "metadata": {},
   "outputs": [],
   "source": []
  }
 ],
 "metadata": {
  "kernelspec": {
   "display_name": "Python 3.9.12 64-bit",
   "language": "python",
   "name": "python3"
  },
  "language_info": {
   "codemirror_mode": {
    "name": "ipython",
    "version": 3
   },
   "file_extension": ".py",
   "mimetype": "text/x-python",
   "name": "python",
   "nbconvert_exporter": "python",
   "pygments_lexer": "ipython3",
   "version": "3.9.17"
  },
  "orig_nbformat": 4,
  "vscode": {
   "interpreter": {
    "hash": "81794d4967e6c3204c66dcd87b604927b115b27c00565d3d43f05ba2f3a2cb0d"
   }
  }
 },
 "nbformat": 4,
 "nbformat_minor": 2
}
